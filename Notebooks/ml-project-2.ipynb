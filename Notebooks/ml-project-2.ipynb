{
 "cells": [
  {
   "cell_type": "code",
   "execution_count": 1,
   "id": "d1283514",
   "metadata": {
    "_cell_guid": "b1076dfc-b9ad-4769-8c92-a6c4dae69d19",
    "_uuid": "8f2839f25d086af736a60e9eeb907d3b93b6e0e5",
    "execution": {
     "iopub.execute_input": "2024-11-26T20:19:08.003703Z",
     "iopub.status.busy": "2024-11-26T20:19:08.003381Z",
     "iopub.status.idle": "2024-11-26T20:19:08.439901Z",
     "shell.execute_reply": "2024-11-26T20:19:08.439118Z"
    },
    "papermill": {
     "duration": 0.442863,
     "end_time": "2024-11-26T20:19:08.441714",
     "exception": false,
     "start_time": "2024-11-26T20:19:07.998851",
     "status": "completed"
    },
    "tags": []
   },
   "outputs": [
    {
     "name": "stdout",
     "output_type": "stream",
     "text": [
      "Path to dataset files: /kaggle/input/brats20-dataset-training-validation\n"
     ]
    }
   ],
   "source": [
    "import kagglehub\n",
    "dataset_path = kagglehub.dataset_download(\"awsaf49/brats20-dataset-training-validation\")\n",
    "print(\"Path to dataset files:\", dataset_path)"
   ]
  },
  {
   "cell_type": "code",
   "execution_count": 2,
   "id": "cb036df8",
   "metadata": {
    "execution": {
     "iopub.execute_input": "2024-11-26T20:19:08.448307Z",
     "iopub.status.busy": "2024-11-26T20:19:08.448039Z",
     "iopub.status.idle": "2024-11-26T20:19:15.296969Z",
     "shell.execute_reply": "2024-11-26T20:19:15.296043Z"
    },
    "papermill": {
     "duration": 6.854095,
     "end_time": "2024-11-26T20:19:15.298705",
     "exception": false,
     "start_time": "2024-11-26T20:19:08.444610",
     "status": "completed"
    },
    "tags": []
   },
   "outputs": [
    {
     "name": "stdout",
     "output_type": "stream",
     "text": [
      "Random seed set.\n"
     ]
    }
   ],
   "source": [
    "import numpy as np\n",
    "import pandas as pd\n",
    "import matplotlib.pyplot as plt\n",
    "import cv2 as cv\n",
    "import os\n",
    "import time\n",
    "import gc\n",
    "\n",
    "import nibabel as nib\n",
    "\n",
    "from sklearn.model_selection import train_test_split\n",
    "\n",
    "import torch\n",
    "from torch import nn\n",
    "from torch.utils.data import Dataset, DataLoader\n",
    "\n",
    "import torchvision.transforms as transforms\n",
    "\n",
    "seed = 42\n",
    "torch.manual_seed(seed)\n",
    "np.random.seed(seed)\n",
    "\n",
    "if torch.cuda.is_available():\n",
    "    torch.cuda.manual_seed(seed)\n",
    "    torch.cuda.manual_seed_all(seed)\n",
    "\n",
    "print(\"Random seed set.\")"
   ]
  },
  {
   "cell_type": "code",
   "execution_count": 3,
   "id": "fdfae1bd",
   "metadata": {
    "execution": {
     "iopub.execute_input": "2024-11-26T20:19:15.305378Z",
     "iopub.status.busy": "2024-11-26T20:19:15.304908Z",
     "iopub.status.idle": "2024-11-26T20:19:15.313399Z",
     "shell.execute_reply": "2024-11-26T20:19:15.312606Z"
    },
    "papermill": {
     "duration": 0.013546,
     "end_time": "2024-11-26T20:19:15.315045",
     "exception": false,
     "start_time": "2024-11-26T20:19:15.301499",
     "status": "completed"
    },
    "tags": []
   },
   "outputs": [],
   "source": [
    "class MRISegDataset(Dataset):\n",
    "    def __init__(self, base_path, transform=None):\n",
    "        \"\"\"\n",
    "        Args:\n",
    "            base_path (str): Path to the dataset folder.\n",
    "            transform (callable, optional): Optional transform to be applied on a sample.\n",
    "        \"\"\"\n",
    "        self.base_path = base_path\n",
    "        self.patients = [p for p in os.listdir(base_path) if os.path.isdir(os.path.join(base_path, p))]\n",
    "        self.transform = transform\n",
    "        \n",
    "    def __len__(self):\n",
    "        return len(self.patients)*155\n",
    "\n",
    "    def __getitem__(self, ind):\n",
    "        \"\"\"\n",
    "        Args:\n",
    "            idx (int): Index of the patient to fetch data for.\n",
    "\n",
    "        Returns:\n",
    "            dict: A dictionary containing 'image', 'segmentation', and optionally 'patient_id'.\n",
    "        \"\"\"\n",
    "        patient_id = self.patients[ind//155]\n",
    "        if patient_id == 'BraTS20_Training_355': \n",
    "            flair_path = os.path.join(self.base_path, patient_id, \"W39_1998.09.19_Segm.nii\")\n",
    "            seg_path = os.path.join(self.base_path, patient_id, \"W39_1998.09.19_Segm.nii\")\n",
    "        else:\n",
    "            flair_path = os.path.join(self.base_path, patient_id, f\"{patient_id}_flair.nii\")\n",
    "            seg_path = os.path.join(self.base_path, patient_id, f\"{patient_id}_seg.nii\")\n",
    "\n",
    "        flair = nib.load(flair_path).get_fdata()[:, :, ind%155].reshape(1, 240, 240)\n",
    "        seg = nib.load(seg_path).get_fdata()[:, :, ind%155].reshape(1, 240, 240)\n",
    "        seg = np.where(seg==4, 3, seg)\n",
    "\n",
    "        # Normalization\n",
    "        flair = (flair - 0) / (900 - 0)\n",
    "\n",
    "        flair = torch.tensor(flair, dtype=torch.float32)\n",
    "        seg = torch.tensor(seg, dtype=torch.long)\n",
    "        \n",
    "\n",
    "        if self.transform:\n",
    "            flair = self.transform(flair)\n",
    "            seg = self.transform(seg)\n",
    "\n",
    "        sample = {'image': flair, 'segmentation': seg, 'patient_id': patient_id}\n",
    "\n",
    "        return sample"
   ]
  },
  {
   "cell_type": "code",
   "execution_count": 4,
   "id": "5f2275de",
   "metadata": {
    "execution": {
     "iopub.execute_input": "2024-11-26T20:19:15.321582Z",
     "iopub.status.busy": "2024-11-26T20:19:15.320884Z",
     "iopub.status.idle": "2024-11-26T20:19:16.028186Z",
     "shell.execute_reply": "2024-11-26T20:19:16.027294Z"
    },
    "papermill": {
     "duration": 0.712676,
     "end_time": "2024-11-26T20:19:16.030319",
     "exception": false,
     "start_time": "2024-11-26T20:19:15.317643",
     "status": "completed"
    },
    "tags": []
   },
   "outputs": [
    {
     "name": "stdout",
     "output_type": "stream",
     "text": [
      "Image shape: torch.Size([1, 256, 256])\n",
      "Segmentation shape: torch.Size([1, 256, 256])\n",
      "Patient ID: BraTS20_Training_083\n"
     ]
    }
   ],
   "source": [
    "base_path = dataset_path +'/BraTS2020_TrainingData/MICCAI_BraTS2020_TrainingData'\n",
    "brats_dataset = MRISegDataset(base_path=base_path, transform=transforms.Resize((256, 256)))\n",
    "\n",
    "# Example: Access a single sample\n",
    "sample = brats_dataset[0]\n",
    "print(\"Image shape:\", sample['image'].shape)\n",
    "print(\"Segmentation shape:\", sample['segmentation'].shape)\n",
    "print(\"Patient ID:\", sample['patient_id'])"
   ]
  },
  {
   "cell_type": "code",
   "execution_count": 5,
   "id": "bf7610e8",
   "metadata": {
    "execution": {
     "iopub.execute_input": "2024-11-26T20:19:16.038843Z",
     "iopub.status.busy": "2024-11-26T20:19:16.038563Z",
     "iopub.status.idle": "2024-11-26T20:19:16.043985Z",
     "shell.execute_reply": "2024-11-26T20:19:16.043219Z"
    },
    "papermill": {
     "duration": 0.01143,
     "end_time": "2024-11-26T20:19:16.045560",
     "exception": false,
     "start_time": "2024-11-26T20:19:16.034130",
     "status": "completed"
    },
    "tags": []
   },
   "outputs": [],
   "source": [
    "def dice_coefficient(pred, target, smooth=1e-6):\n",
    "    pred = pred.contiguous()\n",
    "    target = target.contiguous()\n",
    "\n",
    "    pred_class_all = torch.argmax(pred, dim=1)\n",
    "    \n",
    "    dice_total = []\n",
    "    for class_ind in range(4):\n",
    "        pred_class = (pred_class_all == class_ind).float()\n",
    "        target_class = (target == class_ind).float()\n",
    "        \n",
    "        intersection = (pred_class * target_class).sum(dim=(1,2))\n",
    "        union = pred_class.sum(dim=(1,2)) + target_class.sum(dim=(1,2))\n",
    "        \n",
    "        dice_class = (2. * intersection + smooth) / (union + smooth)\n",
    "        dice_total.append(dice_class)\n",
    "    \n",
    "    return torch.mean(torch.stack(dice_total))"
   ]
  },
  {
   "cell_type": "code",
   "execution_count": 6,
   "id": "d967e9e4",
   "metadata": {
    "execution": {
     "iopub.execute_input": "2024-11-26T20:19:16.053294Z",
     "iopub.status.busy": "2024-11-26T20:19:16.052489Z",
     "iopub.status.idle": "2024-11-26T20:19:16.057314Z",
     "shell.execute_reply": "2024-11-26T20:19:16.056384Z"
    },
    "papermill": {
     "duration": 0.010904,
     "end_time": "2024-11-26T20:19:16.059075",
     "exception": false,
     "start_time": "2024-11-26T20:19:16.048171",
     "status": "completed"
    },
    "tags": []
   },
   "outputs": [
    {
     "name": "stdout",
     "output_type": "stream",
     "text": [
      "Currently using: cuda\n"
     ]
    }
   ],
   "source": [
    "device = torch.device(\"cuda\" if torch.cuda.is_available() else \"cpu\")\n",
    "print(f'Currently using: {device}')"
   ]
  },
  {
   "cell_type": "code",
   "execution_count": 7,
   "id": "1cf9b12e",
   "metadata": {
    "execution": {
     "iopub.execute_input": "2024-11-26T20:19:16.067240Z",
     "iopub.status.busy": "2024-11-26T20:19:16.066996Z",
     "iopub.status.idle": "2024-11-26T20:19:16.087543Z",
     "shell.execute_reply": "2024-11-26T20:19:16.086654Z"
    },
    "papermill": {
     "duration": 0.026567,
     "end_time": "2024-11-26T20:19:16.089239",
     "exception": false,
     "start_time": "2024-11-26T20:19:16.062672",
     "status": "completed"
    },
    "tags": []
   },
   "outputs": [
    {
     "name": "stdout",
     "output_type": "stream",
     "text": [
      "UNet_Big(\n",
      "  (conv1_1): Conv2d(1, 16, kernel_size=(3, 3), stride=(1, 1), padding=(1, 1))\n",
      "  (conv1_2): Conv2d(16, 16, kernel_size=(3, 3), stride=(1, 1), padding=(1, 1))\n",
      "  (pool1): MaxPool2d(kernel_size=2, stride=2, padding=0, dilation=1, ceil_mode=False)\n",
      "  (conv2_1): Conv2d(16, 16, kernel_size=(3, 3), stride=(1, 1), padding=(1, 1))\n",
      "  (conv2_2): Conv2d(16, 32, kernel_size=(3, 3), stride=(1, 1), padding=(1, 1))\n",
      "  (pool2): MaxPool2d(kernel_size=2, stride=2, padding=0, dilation=1, ceil_mode=False)\n",
      "  (conv3_1): Conv2d(32, 32, kernel_size=(3, 3), stride=(1, 1), padding=(1, 1))\n",
      "  (conv3_2): Conv2d(32, 16, kernel_size=(3, 3), stride=(1, 1), padding=(1, 1))\n",
      "  (up4): ConvTranspose2d(16, 32, kernel_size=(2, 2), stride=(2, 2))\n",
      "  (conv4_1): Conv2d(64, 32, kernel_size=(3, 3), stride=(1, 1), padding=(1, 1))\n",
      "  (conv4_2): Conv2d(32, 16, kernel_size=(3, 3), stride=(1, 1), padding=(1, 1))\n",
      "  (up5): ConvTranspose2d(16, 16, kernel_size=(2, 2), stride=(2, 2))\n",
      "  (conv5_1): Conv2d(32, 16, kernel_size=(3, 3), stride=(1, 1), padding=(1, 1))\n",
      "  (conv5_2): Conv2d(16, 4, kernel_size=(3, 3), stride=(1, 1), padding=(1, 1))\n",
      ")\n",
      "54724\n"
     ]
    }
   ],
   "source": [
    "class UNet_Big(nn.Module):\n",
    "    def __init__(self):\n",
    "        super(UNet_Big, self).__init__()\n",
    "\n",
    "        self.conv1_1 = nn.Conv2d(1, 16, kernel_size=3, padding=1)\n",
    "        self.conv1_2 = nn.Conv2d(16, 16, kernel_size=3, padding=1)\n",
    "        self.pool1 = nn.MaxPool2d(2)\n",
    "\n",
    "        self.conv2_1 = nn.Conv2d(16, 16, kernel_size=3, padding=1)\n",
    "        self.conv2_2 = nn.Conv2d(16, 32, kernel_size=3, padding=1)\n",
    "        self.pool2 = nn.MaxPool2d(2)\n",
    "\n",
    "        self.conv3_1 = nn.Conv2d(32, 32, kernel_size=3, padding=1)\n",
    "        self.conv3_2 = nn.Conv2d(32, 16, kernel_size=3, padding=1)\n",
    "    \n",
    "        self.up4 = nn.ConvTranspose2d(16, 32, kernel_size=2, stride=2)\n",
    "        self.conv4_1 = nn.Conv2d(64, 32, kernel_size=3, padding=1)\n",
    "        self.conv4_2 = nn.Conv2d(32, 16, kernel_size=3, padding=1)\n",
    "\n",
    "        self.up5 = nn.ConvTranspose2d(16, 16, kernel_size=2, stride=2)\n",
    "        self.conv5_1 = nn.Conv2d(32, 16, kernel_size=3, padding=1)\n",
    "        self.conv5_2 = nn.Conv2d(16, 4, kernel_size=3, padding=1)\n",
    "\n",
    "    def forward(self, x):\n",
    "        encoder1_1 = torch.relu(self.conv1_1(x))\n",
    "        encoder1_2 = torch.relu(self.conv1_2(encoder1_1))\n",
    "        encoder1_pool = self.pool1(encoder1_2)\n",
    "\n",
    "        encoder2_1 = torch.relu(self.conv2_1(encoder1_pool))\n",
    "        encoder2_2 = torch.relu(self.conv2_2(encoder2_1))\n",
    "        encoder2_pool = self.pool2(encoder2_2)\n",
    "\n",
    "        bottleneck_1 = torch.relu(self.conv3_1(encoder2_pool))\n",
    "        bottleneck_2 = torch.relu(self.conv3_2(bottleneck_1))\n",
    "\n",
    "        decode2_up = self.up4(bottleneck_2)\n",
    "        decode2_concat = torch.cat([decode2_up, encoder2_2], dim=1)\n",
    "        decode2_1 = torch.relu(self.conv4_1(decode2_concat))\n",
    "        decode2_2 = torch.relu(self.conv4_2(decode2_1))\n",
    "\n",
    "        decode1_up = self.up5(decode2_2)\n",
    "        decode1_concat = torch.cat([decode1_up, encoder1_2], dim=1)\n",
    "        decode1_2 = torch.relu(self.conv5_1(decode1_concat))\n",
    "        decode1_3 = self.conv5_2(decode1_2)\n",
    "\n",
    "        return decode1_3\n",
    "\n",
    "# Instantiate the model\n",
    "model = UNet_Big()\n",
    "\n",
    "# Print model summary\n",
    "print(model)\n",
    "print(sum(p.numel() for p in model.parameters() if p.requires_grad))"
   ]
  },
  {
   "cell_type": "code",
   "execution_count": 8,
   "id": "2a5e4da5",
   "metadata": {
    "execution": {
     "iopub.execute_input": "2024-11-26T20:19:16.097536Z",
     "iopub.status.busy": "2024-11-26T20:19:16.097300Z",
     "iopub.status.idle": "2024-11-26T20:19:16.257991Z",
     "shell.execute_reply": "2024-11-26T20:19:16.256959Z"
    },
    "papermill": {
     "duration": 0.166774,
     "end_time": "2024-11-26T20:19:16.259736",
     "exception": false,
     "start_time": "2024-11-26T20:19:16.092962",
     "status": "completed"
    },
    "tags": []
   },
   "outputs": [
    {
     "name": "stdout",
     "output_type": "stream",
     "text": [
      "Number of Batches: 3575\n",
      "Moved to cuda.\n"
     ]
    }
   ],
   "source": [
    "batch_size = 16\n",
    "data_loader = DataLoader(brats_dataset, batch_size=batch_size, shuffle=True, pin_memory=True,\n",
    "                         num_workers=2)\n",
    "print(f\"Number of Batches: {len(data_loader)}\")\n",
    "\n",
    "model_big = UNet_Big()\n",
    "if torch.cuda.is_available(): \n",
    "    model_big = model_big.cuda()\n",
    "    print(\"Moved to cuda.\")\n",
    "criterion_big = nn.CrossEntropyLoss()\n",
    "optimizer_big = torch.optim.Adam(model_big.parameters(), lr=1e-3)"
   ]
  },
  {
   "cell_type": "code",
   "execution_count": 9,
   "id": "c95d9d95",
   "metadata": {
    "execution": {
     "iopub.execute_input": "2024-11-26T20:19:16.266822Z",
     "iopub.status.busy": "2024-11-26T20:19:16.266561Z",
     "iopub.status.idle": "2024-11-26T22:33:16.847407Z",
     "shell.execute_reply": "2024-11-26T22:33:16.846431Z"
    },
    "papermill": {
     "duration": 8040.592084,
     "end_time": "2024-11-26T22:33:16.854866",
     "exception": false,
     "start_time": "2024-11-26T20:19:16.262782",
     "status": "completed"
    },
    "tags": []
   },
   "outputs": [
    {
     "name": "stdout",
     "output_type": "stream",
     "text": [
      "Batch 0/3575, Time: 1.2567, Loss: 1.3964\n",
      "Batch 300/3575, Time: 0.3253, Loss: 0.0646\n",
      "Batch 600/3575, Time: 0.3117, Loss: 0.0515\n",
      "Batch 900/3575, Time: 0.2464, Loss: 0.0810\n",
      "Batch 1200/3575, Time: 0.3326, Loss: 0.0529\n",
      "Batch 1500/3575, Time: 0.2326, Loss: 0.0479\n",
      "Batch 1800/3575, Time: 0.3297, Loss: 0.0492\n",
      "Batch 2100/3575, Time: 0.2325, Loss: 0.0432\n",
      "Batch 2400/3575, Time: 0.2360, Loss: 0.0562\n",
      "Batch 2700/3575, Time: 0.3203, Loss: 0.0219\n",
      "Batch 3000/3575, Time: 0.2299, Loss: 0.0174\n",
      "Batch 3300/3575, Time: 0.2715, Loss: 0.0463\n",
      "Epoch 1/5, Time: 1667.1382, Loss: 0.0473\n",
      "Saving weights\n",
      "Batch 0/3575, Time: 0.5105, Loss: 0.0204\n",
      "Batch 300/3575, Time: 0.2369, Loss: 0.0315\n",
      "Batch 600/3575, Time: 0.3379, Loss: 0.0189\n",
      "Batch 900/3575, Time: 0.2364, Loss: 0.0128\n",
      "Batch 1200/3575, Time: 0.3389, Loss: 0.0469\n",
      "Batch 1500/3575, Time: 0.2504, Loss: 0.0342\n",
      "Batch 1800/3575, Time: 0.3395, Loss: 0.0319\n",
      "Batch 2100/3575, Time: 0.2372, Loss: 0.0269\n",
      "Batch 2400/3575, Time: 0.3290, Loss: 0.0327\n",
      "Batch 2700/3575, Time: 0.3238, Loss: 0.0195\n",
      "Batch 3000/3575, Time: 0.2959, Loss: 0.0326\n",
      "Batch 3300/3575, Time: 0.2331, Loss: 0.0374\n",
      "Epoch 2/5, Time: 1628.9813, Loss: 0.0315\n",
      "Saving weights\n",
      "Batch 0/3575, Time: 0.4930, Loss: 0.0201\n",
      "Batch 300/3575, Time: 0.2476, Loss: 0.0202\n",
      "Batch 600/3575, Time: 0.3047, Loss: 0.0479\n",
      "Batch 900/3575, Time: 0.3340, Loss: 0.0224\n",
      "Batch 1200/3575, Time: 0.2926, Loss: 0.0280\n",
      "Batch 1500/3575, Time: 0.3278, Loss: 0.0156\n",
      "Batch 1800/3575, Time: 0.3365, Loss: 0.0538\n",
      "Batch 2100/3575, Time: 0.3380, Loss: 0.0196\n",
      "Batch 2400/3575, Time: 0.2675, Loss: 0.0172\n",
      "Batch 2700/3575, Time: 0.2634, Loss: 0.0268\n",
      "Batch 3000/3575, Time: 0.3251, Loss: 0.0129\n",
      "Batch 3300/3575, Time: 0.2344, Loss: 0.0108\n",
      "Epoch 3/5, Time: 1584.9219, Loss: 0.0283\n",
      "Saving weights\n",
      "Batch 0/3575, Time: 0.3355, Loss: 0.0378\n",
      "Batch 300/3575, Time: 0.2692, Loss: 0.0326\n",
      "Batch 600/3575, Time: 0.2978, Loss: 0.0149\n",
      "Batch 900/3575, Time: 0.2420, Loss: 0.0494\n",
      "Batch 1200/3575, Time: 0.3158, Loss: 0.0278\n",
      "Batch 1500/3575, Time: 0.2346, Loss: 0.0240\n",
      "Batch 1800/3575, Time: 0.3394, Loss: 0.0290\n",
      "Batch 2100/3575, Time: 0.3175, Loss: 0.0463\n",
      "Batch 2400/3575, Time: 0.3126, Loss: 0.0251\n",
      "Batch 2700/3575, Time: 0.2984, Loss: 0.0335\n",
      "Batch 3000/3575, Time: 0.3132, Loss: 0.0201\n",
      "Batch 3300/3575, Time: 0.2363, Loss: 0.0258\n",
      "Epoch 4/5, Time: 1581.2726, Loss: 0.0267\n",
      "Saving weights\n",
      "Batch 0/3575, Time: 0.3391, Loss: 0.0172\n",
      "Batch 300/3575, Time: 0.2381, Loss: 0.0220\n",
      "Batch 600/3575, Time: 0.3266, Loss: 0.0151\n",
      "Batch 900/3575, Time: 0.2821, Loss: 0.0229\n",
      "Batch 1200/3575, Time: 0.3350, Loss: 0.0279\n",
      "Batch 1500/3575, Time: 0.2329, Loss: 0.0119\n",
      "Batch 1800/3575, Time: 0.3046, Loss: 0.0231\n",
      "Batch 2100/3575, Time: 0.2367, Loss: 0.0207\n",
      "Batch 2400/3575, Time: 0.3389, Loss: 0.0488\n",
      "Batch 2700/3575, Time: 0.3287, Loss: 0.0195\n",
      "Batch 3000/3575, Time: 0.3431, Loss: 0.0226\n",
      "Batch 3300/3575, Time: 0.2312, Loss: 0.0204\n",
      "Epoch 5/5, Time: 1578.2450, Loss: 0.0254\n",
      "Saving weights\n"
     ]
    }
   ],
   "source": [
    "num_epochs = 5\n",
    "training_losses = []\n",
    "epoch_times = []\n",
    "\n",
    "for epoch in range(num_epochs):\n",
    "    epoch_start_time = time.time()\n",
    "    model.train()\n",
    "    running_loss = 0.0\n",
    "\n",
    "    for batch_idx, batch in enumerate(data_loader):\n",
    "        batch_start_time = time.time()\n",
    "        images = batch['image'].to(device) \n",
    "        segmentations = batch['segmentation'].squeeze(1).to(device)\n",
    "\n",
    "        optimizer_big.zero_grad()\n",
    "    \n",
    "        outputs = model_big(images)\n",
    "        loss = criterion_big(outputs, segmentations)\n",
    "        \n",
    "        loss.backward()\n",
    "        optimizer_big.step()\n",
    "\n",
    "        running_loss += loss.item()\n",
    "        \n",
    "        del images\n",
    "        del segmentations\n",
    "        torch.cuda.empty_cache()\n",
    "        gc.collect()\n",
    "        \n",
    "        if batch_idx%300 == 0:\n",
    "            print(f\"Batch {batch_idx}/{len(data_loader)}, Time: {time.time()-batch_start_time:.4f}, Loss: {loss.item():.4f}\")\n",
    "        \n",
    "    avg_loss = running_loss / len(data_loader)\n",
    "    epoch_time = time.time()-epoch_start_time\n",
    "    print(f\"Epoch {epoch+1}/{num_epochs}, Time: {epoch_time:.4f}, Loss: {avg_loss:.4f}\")\n",
    "\n",
    "    print(\"Saving weights\")\n",
    "    torch.save(model.state_dict(), f\"UNet2_weights_{epoch}.pth\")\n",
    "    training_losses.append(avg_loss)\n",
    "    epoch_times.append(epoch_time)\n",
    "\n",
    "with open(\"UNet2.txt\", \"w\") as f:\n",
    "    f.write(\"Training_losses: \\n\")\n",
    "    for i in training_losses: f.write(str(i)+\"\\n\")\n",
    "    f.write(\"\\nEpoch_times: \\n\")\n",
    "    for i in epoch_times: f.write(str(i)+\"\\n\")"
   ]
  },
  {
   "cell_type": "code",
   "execution_count": 10,
   "id": "bfbe58f1",
   "metadata": {
    "execution": {
     "iopub.execute_input": "2024-11-26T22:33:16.867233Z",
     "iopub.status.busy": "2024-11-26T22:33:16.866948Z",
     "iopub.status.idle": "2024-11-26T22:33:16.871929Z",
     "shell.execute_reply": "2024-11-26T22:33:16.870941Z"
    },
    "papermill": {
     "duration": 0.013023,
     "end_time": "2024-11-26T22:33:16.873502",
     "exception": false,
     "start_time": "2024-11-26T22:33:16.860479",
     "status": "completed"
    },
    "tags": []
   },
   "outputs": [
    {
     "name": "stdout",
     "output_type": "stream",
     "text": [
      "Training_losses: \n",
      "0.04726752118852276\n",
      "0.03146061282722162\n",
      "0.02832907700113353\n",
      "0.026679587014266974\n",
      "0.0254085939694717\n",
      "\n",
      "Epoch_times: \n",
      "1667.1381542682648\n",
      "1628.9812817573547\n",
      "1584.9219417572021\n",
      "1581.272633075714\n",
      "1578.2449669837952\n",
      "\n"
     ]
    }
   ],
   "source": [
    "with open(\"UNet2.txt\", \"r\") as f:\n",
    "    content = f.read()\n",
    "\n",
    "print(content)"
   ]
  },
  {
   "cell_type": "code",
   "execution_count": 11,
   "id": "02c62d6f",
   "metadata": {
    "execution": {
     "iopub.execute_input": "2024-11-26T22:33:16.885510Z",
     "iopub.status.busy": "2024-11-26T22:33:16.885261Z",
     "iopub.status.idle": "2024-11-26T22:33:17.131000Z",
     "shell.execute_reply": "2024-11-26T22:33:17.130209Z"
    },
    "papermill": {
     "duration": 0.253677,
     "end_time": "2024-11-26T22:33:17.132769",
     "exception": false,
     "start_time": "2024-11-26T22:33:16.879092",
     "status": "completed"
    },
    "tags": []
   },
   "outputs": [
    {
     "name": "stdout",
     "output_type": "stream",
     "text": [
      "[0.04726752118852276, 0.03146061282722162, 0.02832907700113353, 0.026679587014266974, 0.0254085939694717]\n"
     ]
    },
    {
     "data": {
      "image/png": "[encoded data removed]",
      "text/plain": [
       "<Figure size 640x480 with 1 Axes>"
      ]
     },
     "metadata": {},
     "output_type": "display_data"
    }
   ],
   "source": [
    "plt.plot(training_losses)\n",
    "print(training_losses)"
   ]
  },
  {
   "cell_type": "code",
   "execution_count": 12,
   "id": "e7ea2b56",
   "metadata": {
    "execution": {
     "iopub.execute_input": "2024-11-26T22:33:17.146040Z",
     "iopub.status.busy": "2024-11-26T22:33:17.145541Z",
     "iopub.status.idle": "2024-11-26T22:33:17.293706Z",
     "shell.execute_reply": "2024-11-26T22:33:17.292879Z"
    },
    "papermill": {
     "duration": 0.156534,
     "end_time": "2024-11-26T22:33:17.295484",
     "exception": false,
     "start_time": "2024-11-26T22:33:17.138950",
     "status": "completed"
    },
    "tags": []
   },
   "outputs": [
    {
     "name": "stdout",
     "output_type": "stream",
     "text": [
      "[1667.1381542682648, 1628.9812817573547, 1584.9219417572021, 1581.272633075714, 1578.2449669837952]\n"
     ]
    },
    {
     "data": {
      "image/png": "[encoded data removed]",
      "text/plain": [
       "<Figure size 640x480 with 1 Axes>"
      ]
     },
     "metadata": {},
     "output_type": "display_data"
    }
   ],
   "source": [
    "plt.plot(epoch_times)\n",
    "print(epoch_times)"
   ]
  }
 ],
 "metadata": {
  "kaggle": {
   "accelerator": "none",
   "dataSources": [
    {
     "databundleVersionId": 1331968,
     "datasetId": 751906,
     "sourceId": 1299795,
     "sourceType": "datasetVersion"
    }
   ],
   "dockerImageVersionId": 30786,
   "isGpuEnabled": false,
   "isInternetEnabled": true,
   "language": "python",
   "sourceType": "notebook"
  },
  "kernelspec": {
   "display_name": "Python 3",
   "language": "python",
   "name": "python3"
  },
  "language_info": {
   "codemirror_mode": {
    "name": "ipython",
    "version": 3
   },
   "file_extension": ".py",
   "mimetype": "text/x-python",
   "name": "python",
   "nbconvert_exporter": "python",
   "pygments_lexer": "ipython3",
   "version": "3.10.14"
  },
  "papermill": {
   "default_parameters": {},
   "duration": 8053.260157,
   "end_time": "2024-11-26T22:33:18.924289",
   "environment_variables": {},
   "exception": null,
   "input_path": "__notebook__.ipynb",
   "output_path": "__notebook__.ipynb",
   "parameters": {},
   "start_time": "2024-11-26T20:19:05.664132",
   "version": "2.6.0"
  }
 },
 "nbformat": 4,
 "nbformat_minor": 5
}
